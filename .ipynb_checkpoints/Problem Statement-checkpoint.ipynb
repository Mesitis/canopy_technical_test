{
 "cells": [
  {
   "cell_type": "markdown",
   "metadata": {},
   "source": [
    "# Canopy Technical Test\n",
    "\n",
    "You are given 3 PDF files:\n",
    "    \n",
    "    BOS\n",
    "    JB\n",
    "    UBS"
   ]
  },
  {
   "cell_type": "code",
   "execution_count": 45,
   "metadata": {},
   "outputs": [],
   "source": [
    "import os\n",
    "import pandas as pd\n",
    "import numpy as np"
   ]
  },
  {
   "cell_type": "markdown",
   "metadata": {},
   "source": [
    "# Your task"
   ]
  },
  {
   "cell_type": "markdown",
   "metadata": {},
   "source": [
    "Write Python code which extracts only tables labeled as Transactions from each of the PDFs into excel\n",
    "\n",
    "    In JBS, there is no \"Transactions\" label, but it is labelled as \"Booking Details\" instead"
   ]
  },
  {
   "cell_type": "markdown",
   "metadata": {},
   "source": [
    "### Given Files to test with"
   ]
  },
  {
   "cell_type": "code",
   "execution_count": 46,
   "metadata": {},
   "outputs": [
    {
     "data": {
      "text/plain": [
       "['Bos.pdf', 'UBS.pdf', 'JBS.pdf']"
      ]
     },
     "execution_count": 46,
     "metadata": {},
     "output_type": "execute_result"
    }
   ],
   "source": [
    "os.listdir('data')"
   ]
  },
  {
   "cell_type": "markdown",
   "metadata": {},
   "source": [
    "## Table Extraction Details\n",
    "\n",
    "On extracting table data, some of the headers are stacked. Your task is to extract the tabular data into a flattened form"
   ]
  },
  {
   "cell_type": "markdown",
   "metadata": {},
   "source": [
    "### Example Raw form"
   ]
  },
  {
   "cell_type": "code",
   "execution_count": 4,
   "metadata": {},
   "outputs": [],
   "source": []
  },
  {
   "cell_type": "code",
   "execution_count": 7,
   "metadata": {},
   "outputs": [],
   "source": [
    "example_df = pd.DataFrame(data={\"Description\":[\"Narrative\",\"ADANI ABBOT PT 4.45 151222 JD REGS\",\"- 082537-000\",\"SECURITY PURCHASE\",\"AFRICAN EXPORT-IMPORT 4 240521\",\"MN - 062769-000\",\"SECURITY PURCHASE\" ], \"Ccy\":[np.nan, \"USD\", np.nan, np.nan, \"USD\", np.nan, np.nan],\"Trade Date\":[\"Value Date\", \"09 Feb 2018\", np.nan, \"13 Feb 2018\",\"09 Feb 2018\", np.nan,\"13 Feb 2018\" ], \"Quantity/Nominal\":[np.nan,\"60,000.00\", np.nan, np.nan, \"120,000.00\", np.nan, np.nan ], \"Reference Number\":[np.nan, \"SCTRSC1804300277\",np.nan, np.nan,\"SCTRSC1804001529\", np.nan,np.nan ]\n",
    "                               \n",
    "                               })"
   ]
  },
  {
   "cell_type": "markdown",
   "metadata": {},
   "source": [
    "#### Example nested headers format"
   ]
  },
  {
   "cell_type": "code",
   "execution_count": 8,
   "metadata": {},
   "outputs": [
    {
     "data": {
      "text/html": [
       "<div>\n",
       "<style scoped>\n",
       "    .dataframe tbody tr th:only-of-type {\n",
       "        vertical-align: middle;\n",
       "    }\n",
       "\n",
       "    .dataframe tbody tr th {\n",
       "        vertical-align: top;\n",
       "    }\n",
       "\n",
       "    .dataframe thead th {\n",
       "        text-align: right;\n",
       "    }\n",
       "</style>\n",
       "<table border=\"1\" class=\"dataframe\">\n",
       "  <thead>\n",
       "    <tr style=\"text-align: right;\">\n",
       "      <th></th>\n",
       "      <th>Ccy</th>\n",
       "      <th>Description</th>\n",
       "      <th>Quantity/Nominal</th>\n",
       "      <th>Reference Number</th>\n",
       "      <th>Trade Date</th>\n",
       "    </tr>\n",
       "  </thead>\n",
       "  <tbody>\n",
       "    <tr>\n",
       "      <th>0</th>\n",
       "      <td>NaN</td>\n",
       "      <td>Narrative</td>\n",
       "      <td>NaN</td>\n",
       "      <td>NaN</td>\n",
       "      <td>Value Date</td>\n",
       "    </tr>\n",
       "    <tr>\n",
       "      <th>1</th>\n",
       "      <td>USD</td>\n",
       "      <td>ADANI ABBOT PT 4.45 151222 JD REGS</td>\n",
       "      <td>60,000.00</td>\n",
       "      <td>SCTRSC1804300277</td>\n",
       "      <td>09 Feb 2018</td>\n",
       "    </tr>\n",
       "    <tr>\n",
       "      <th>2</th>\n",
       "      <td>NaN</td>\n",
       "      <td>- 082537-000</td>\n",
       "      <td>NaN</td>\n",
       "      <td>NaN</td>\n",
       "      <td>NaN</td>\n",
       "    </tr>\n",
       "    <tr>\n",
       "      <th>3</th>\n",
       "      <td>NaN</td>\n",
       "      <td>SECURITY PURCHASE</td>\n",
       "      <td>NaN</td>\n",
       "      <td>NaN</td>\n",
       "      <td>13 Feb 2018</td>\n",
       "    </tr>\n",
       "    <tr>\n",
       "      <th>4</th>\n",
       "      <td>USD</td>\n",
       "      <td>AFRICAN EXPORT-IMPORT 4 240521</td>\n",
       "      <td>120,000.00</td>\n",
       "      <td>SCTRSC1804001529</td>\n",
       "      <td>09 Feb 2018</td>\n",
       "    </tr>\n",
       "    <tr>\n",
       "      <th>5</th>\n",
       "      <td>NaN</td>\n",
       "      <td>MN - 062769-000</td>\n",
       "      <td>NaN</td>\n",
       "      <td>NaN</td>\n",
       "      <td>NaN</td>\n",
       "    </tr>\n",
       "    <tr>\n",
       "      <th>6</th>\n",
       "      <td>NaN</td>\n",
       "      <td>SECURITY PURCHASE</td>\n",
       "      <td>NaN</td>\n",
       "      <td>NaN</td>\n",
       "      <td>13 Feb 2018</td>\n",
       "    </tr>\n",
       "  </tbody>\n",
       "</table>\n",
       "</div>"
      ],
      "text/plain": [
       "   Ccy                         Description Quantity/Nominal  Reference Number  \\\n",
       "0  NaN                           Narrative              NaN               NaN   \n",
       "1  USD  ADANI ABBOT PT 4.45 151222 JD REGS        60,000.00  SCTRSC1804300277   \n",
       "2  NaN                        - 082537-000              NaN               NaN   \n",
       "3  NaN                   SECURITY PURCHASE              NaN               NaN   \n",
       "4  USD      AFRICAN EXPORT-IMPORT 4 240521       120,000.00  SCTRSC1804001529   \n",
       "5  NaN                     MN - 062769-000              NaN               NaN   \n",
       "6  NaN                   SECURITY PURCHASE              NaN               NaN   \n",
       "\n",
       "    Trade Date  \n",
       "0   Value Date  \n",
       "1  09 Feb 2018  \n",
       "2          NaN  \n",
       "3  13 Feb 2018  \n",
       "4  09 Feb 2018  \n",
       "5          NaN  \n",
       "6  13 Feb 2018  "
      ]
     },
     "execution_count": 8,
     "metadata": {},
     "output_type": "execute_result"
    }
   ],
   "source": [
    "example_df"
   ]
  },
  {
   "cell_type": "markdown",
   "metadata": {},
   "source": [
    "## Expected output *format*\n",
    "\n",
    "    Note that some cells were divided across multiple rows even though they belonged to the same header, now they are combined. See cell 1 and 2 as example in raw format and how they've combined in the expected output"
   ]
  },
  {
   "cell_type": "code",
   "execution_count": 24,
   "metadata": {},
   "outputs": [],
   "source": [
    "example_output_df = pd.DataFrame(data={\"Narrative\":[\"SECURITY PURCHASE\", \"SECURITY PURCHASE\"],\"Description\":[\"ADANI ABBOT PT 4.45 151222 JD REGS - 082537-000\",\"AFRICAN EXPORT-IMPORT 4 240521 MN - 062769-000\"], \"Ccy\":[\"USD\",\"USD\"],\"Value Date\":[\"13 Feb 2018\", \"13 Feb 2018\"],\"Trade Date\":[\"09 Feb 2018\",\"09 Feb 2018\"], \"Quantity/Nominal\":[\"60,000.00\", \"120,000.00\" ], \"Reference Number\":[\"SCTRSC1804300277\",\"SCTRSC1804001529\"]\n",
    "                               \n",
    "                               })"
   ]
  },
  {
   "cell_type": "code",
   "execution_count": 10,
   "metadata": {},
   "outputs": [
    {
     "data": {
      "text/html": [
       "<div>\n",
       "<style scoped>\n",
       "    .dataframe tbody tr th:only-of-type {\n",
       "        vertical-align: middle;\n",
       "    }\n",
       "\n",
       "    .dataframe tbody tr th {\n",
       "        vertical-align: top;\n",
       "    }\n",
       "\n",
       "    .dataframe thead th {\n",
       "        text-align: right;\n",
       "    }\n",
       "</style>\n",
       "<table border=\"1\" class=\"dataframe\">\n",
       "  <thead>\n",
       "    <tr style=\"text-align: right;\">\n",
       "      <th></th>\n",
       "      <th>Ccy</th>\n",
       "      <th>Description</th>\n",
       "      <th>Narrative</th>\n",
       "      <th>Quantity/Nominal</th>\n",
       "      <th>Reference Number</th>\n",
       "      <th>Trade Date</th>\n",
       "      <th>Value Date</th>\n",
       "    </tr>\n",
       "  </thead>\n",
       "  <tbody>\n",
       "    <tr>\n",
       "      <th>0</th>\n",
       "      <td>USD</td>\n",
       "      <td>ADANI ABBOT PT 4.45 151222 JD REGS - 082537-000</td>\n",
       "      <td>SECURITY PURCHASE</td>\n",
       "      <td>60,000.00</td>\n",
       "      <td>SCTRSC1804300277</td>\n",
       "      <td>09 Feb 2018</td>\n",
       "      <td>13 Feb 2018</td>\n",
       "    </tr>\n",
       "    <tr>\n",
       "      <th>1</th>\n",
       "      <td>USD</td>\n",
       "      <td>AFRICAN EXPORT-IMPORT 4 240521 MN - 062769-000</td>\n",
       "      <td>SECURITY PURCHASE</td>\n",
       "      <td>120,000.00</td>\n",
       "      <td>SCTRSC1804001529</td>\n",
       "      <td>09 Feb 2018</td>\n",
       "      <td>13 Feb 2018</td>\n",
       "    </tr>\n",
       "  </tbody>\n",
       "</table>\n",
       "</div>"
      ],
      "text/plain": [
       "   Ccy                                      Description          Narrative  \\\n",
       "0  USD  ADANI ABBOT PT 4.45 151222 JD REGS - 082537-000  SECURITY PURCHASE   \n",
       "1  USD   AFRICAN EXPORT-IMPORT 4 240521 MN - 062769-000  SECURITY PURCHASE   \n",
       "\n",
       "  Quantity/Nominal  Reference Number   Trade Date   Value Date  \n",
       "0        60,000.00  SCTRSC1804300277  09 Feb 2018  13 Feb 2018  \n",
       "1       120,000.00  SCTRSC1804001529  09 Feb 2018  13 Feb 2018  "
      ]
     },
     "execution_count": 10,
     "metadata": {},
     "output_type": "execute_result"
    }
   ],
   "source": [
    "example_output_df"
   ]
  },
  {
   "cell_type": "markdown",
   "metadata": {},
   "source": [
    "## Generic Code\n",
    "\n",
    "Your code is expected to be generic and can be applied to solve all three PDFs and extract nested/multidimensional tabular data"
   ]
  },
  {
   "cell_type": "markdown",
   "metadata": {},
   "source": [
    "## Post Processing data\n",
    "    \n",
    "    Your code is expected to process cells which are dates / currency into appropriate machine readable and analytical forms"
   ]
  },
  {
   "cell_type": "markdown",
   "metadata": {},
   "source": [
    "### Example expected clean df"
   ]
  },
  {
   "cell_type": "code",
   "execution_count": 40,
   "metadata": {},
   "outputs": [],
   "source": [
    "example_cleaner_df = pd.DataFrame(data={'Ccy': {0: 'USD', 1: 'USD'},\n",
    " 'Description': {0: 'ADANI ABBOT PT 4.45 151222 JD REGS - 082537-000',\n",
    "  1: 'AFRICAN EXPORT-IMPORT 4 240521 MN - 062769-000'},\n",
    " 'Narrative': {0: 'SECURITY PURCHASE', 1: 'SECURITY PURCHASE'},\n",
    " 'Quantity/Nominal': {0: 60000.0, 1: 120000.0},\n",
    " 'Reference Number': {0: 'SCTRSC1804300277', 1: 'SCTRSC1804001529'},\n",
    " 'Trade Date': {0: '02/09/2018', 1: '02/09/2018'},\n",
    " 'Value Date': {0: '13/02/2018', 1: '13/02/2018'}})"
   ]
  },
  {
   "cell_type": "code",
   "execution_count": 41,
   "metadata": {},
   "outputs": [
    {
     "data": {
      "text/html": [
       "<div>\n",
       "<style scoped>\n",
       "    .dataframe tbody tr th:only-of-type {\n",
       "        vertical-align: middle;\n",
       "    }\n",
       "\n",
       "    .dataframe tbody tr th {\n",
       "        vertical-align: top;\n",
       "    }\n",
       "\n",
       "    .dataframe thead th {\n",
       "        text-align: right;\n",
       "    }\n",
       "</style>\n",
       "<table border=\"1\" class=\"dataframe\">\n",
       "  <thead>\n",
       "    <tr style=\"text-align: right;\">\n",
       "      <th></th>\n",
       "      <th>Ccy</th>\n",
       "      <th>Description</th>\n",
       "      <th>Narrative</th>\n",
       "      <th>Quantity/Nominal</th>\n",
       "      <th>Reference Number</th>\n",
       "      <th>Trade Date</th>\n",
       "      <th>Value Date</th>\n",
       "    </tr>\n",
       "  </thead>\n",
       "  <tbody>\n",
       "    <tr>\n",
       "      <th>0</th>\n",
       "      <td>USD</td>\n",
       "      <td>ADANI ABBOT PT 4.45 151222 JD REGS - 082537-000</td>\n",
       "      <td>SECURITY PURCHASE</td>\n",
       "      <td>60000.0</td>\n",
       "      <td>SCTRSC1804300277</td>\n",
       "      <td>02/09/2018</td>\n",
       "      <td>13/02/2018</td>\n",
       "    </tr>\n",
       "    <tr>\n",
       "      <th>1</th>\n",
       "      <td>USD</td>\n",
       "      <td>AFRICAN EXPORT-IMPORT 4 240521 MN - 062769-000</td>\n",
       "      <td>SECURITY PURCHASE</td>\n",
       "      <td>120000.0</td>\n",
       "      <td>SCTRSC1804001529</td>\n",
       "      <td>02/09/2018</td>\n",
       "      <td>13/02/2018</td>\n",
       "    </tr>\n",
       "  </tbody>\n",
       "</table>\n",
       "</div>"
      ],
      "text/plain": [
       "   Ccy                                      Description          Narrative  \\\n",
       "0  USD  ADANI ABBOT PT 4.45 151222 JD REGS - 082537-000  SECURITY PURCHASE   \n",
       "1  USD   AFRICAN EXPORT-IMPORT 4 240521 MN - 062769-000  SECURITY PURCHASE   \n",
       "\n",
       "   Quantity/Nominal  Reference Number  Trade Date  Value Date  \n",
       "0           60000.0  SCTRSC1804300277  02/09/2018  13/02/2018  \n",
       "1          120000.0  SCTRSC1804001529  02/09/2018  13/02/2018  "
      ]
     },
     "execution_count": 41,
     "metadata": {},
     "output_type": "execute_result"
    }
   ],
   "source": [
    "example_cleaner_df"
   ]
  },
  {
   "cell_type": "code",
   "execution_count": null,
   "metadata": {},
   "outputs": [],
   "source": []
  }
 ],
 "metadata": {
  "kernelspec": {
   "display_name": "Python [conda env:datafeed]",
   "language": "python",
   "name": "conda-env-datafeed-py"
  },
  "language_info": {
   "codemirror_mode": {
    "name": "ipython",
    "version": 3
   },
   "file_extension": ".py",
   "mimetype": "text/x-python",
   "name": "python",
   "nbconvert_exporter": "python",
   "pygments_lexer": "ipython3",
   "version": "3.6.5"
  }
 },
 "nbformat": 4,
 "nbformat_minor": 2
}
